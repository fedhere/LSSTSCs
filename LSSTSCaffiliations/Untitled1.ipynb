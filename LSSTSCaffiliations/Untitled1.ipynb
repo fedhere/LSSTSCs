{
 "cells": [
  {
   "cell_type": "code",
   "execution_count": 36,
   "metadata": {
    "ExecuteTime": {
     "end_time": "2018-04-15T10:20:18.977535-04:00",
     "start_time": "2018-04-15T10:20:15.608135"
    }
   },
   "outputs": [
    {
     "name": "stdout",
     "output_type": "stream",
     "text": [
      "Populating the interactive namespace from numpy and matplotlib\n"
     ]
    }
   ],
   "source": [
    "import pandas as pd\n",
    "import numpy as np\n",
    "import pylab as pl\n",
    "import itertools\n",
    "\n",
    "%pylab inline"
   ]
  },
  {
   "cell_type": "code",
   "execution_count": 92,
   "metadata": {
    "ExecuteTime": {
     "end_time": "2018-04-15T10:20:18.994938-04:00",
     "start_time": "2018-04-15T10:20:18.980980"
    }
   },
   "outputs": [],
   "source": [
    "affiliations = pd.read_csv(\"contactdbexport.csv\") #SC-List.csv\")"
   ]
  },
  {
   "cell_type": "code",
   "execution_count": 93,
   "metadata": {},
   "outputs": [],
   "source": [
    "affiliations['Contact Category'] = affiliations['Contact Category'].map(lambda x:x.strip().lstrip())"
   ]
  },
  {
   "cell_type": "code",
   "execution_count": 94,
   "metadata": {
    "ExecuteTime": {
     "end_time": "2018-04-15T10:20:19.036891-04:00",
     "start_time": "2018-04-15T10:20:18.998052"
    }
   },
   "outputs": [
    {
     "data": {
      "text/html": [
       "<div>\n",
       "<style scoped>\n",
       "    .dataframe tbody tr th:only-of-type {\n",
       "        vertical-align: middle;\n",
       "    }\n",
       "\n",
       "    .dataframe tbody tr th {\n",
       "        vertical-align: top;\n",
       "    }\n",
       "\n",
       "    .dataframe thead th {\n",
       "        text-align: right;\n",
       "    }\n",
       "</style>\n",
       "<table border=\"1\" class=\"dataframe\">\n",
       "  <thead>\n",
       "    <tr style=\"text-align: right;\">\n",
       "      <th></th>\n",
       "      <th>First Name</th>\n",
       "      <th>Last Name</th>\n",
       "      <th>Email</th>\n",
       "      <th>Telephone</th>\n",
       "      <th>Company</th>\n",
       "      <th>Contact Category</th>\n",
       "      <th>Role</th>\n",
       "      <th>Unnamed: 7</th>\n",
       "      <th>Unnamed: 8</th>\n",
       "      <th>Unnamed: 9</th>\n",
       "      <th>Unnamed: 10</th>\n",
       "      <th>Unnamed: 11</th>\n",
       "      <th>Unnamed: 12</th>\n",
       "    </tr>\n",
       "  </thead>\n",
       "  <tbody>\n",
       "    <tr>\n",
       "      <th>0</th>\n",
       "      <td>Ghaleb</td>\n",
       "      <td>Abdulla</td>\n",
       "      <td>abdulla1@llnl.gov</td>\n",
       "      <td>925-423-5947</td>\n",
       "      <td>Lawrence Livermore National Laboratory</td>\n",
       "      <td>Transients</td>\n",
       "      <td>Member</td>\n",
       "      <td>NaN</td>\n",
       "      <td>NaN</td>\n",
       "      <td>NaN</td>\n",
       "      <td>NaN</td>\n",
       "      <td>NaN</td>\n",
       "      <td>NaN</td>\n",
       "    </tr>\n",
       "    <tr>\n",
       "      <th>1</th>\n",
       "      <td>Paul Alexander</td>\n",
       "      <td>Abell</td>\n",
       "      <td>paul.a.abell@nasa.gov</td>\n",
       "      <td>281-483-0293</td>\n",
       "      <td>NASA Johnson Space Center</td>\n",
       "      <td>Solar System</td>\n",
       "      <td>Member</td>\n",
       "      <td>NaN</td>\n",
       "      <td>NaN</td>\n",
       "      <td>NaN</td>\n",
       "      <td>NaN</td>\n",
       "      <td>NaN</td>\n",
       "      <td>NaN</td>\n",
       "    </tr>\n",
       "    <tr>\n",
       "      <th>2</th>\n",
       "      <td>Eric</td>\n",
       "      <td>Agol</td>\n",
       "      <td>agol@astro.washington.edu</td>\n",
       "      <td>NaN</td>\n",
       "      <td>University of Washington</td>\n",
       "      <td>Transients</td>\n",
       "      <td>Member</td>\n",
       "      <td>NaN</td>\n",
       "      <td>NaN</td>\n",
       "      <td>NaN</td>\n",
       "      <td>NaN</td>\n",
       "      <td>NaN</td>\n",
       "      <td>NaN</td>\n",
       "    </tr>\n",
       "    <tr>\n",
       "      <th>3</th>\n",
       "      <td>Eric</td>\n",
       "      <td>Agol</td>\n",
       "      <td>agol@astro.washington.edu</td>\n",
       "      <td>NaN</td>\n",
       "      <td>University of Washington</td>\n",
       "      <td>Strong Lensing</td>\n",
       "      <td>Affiliate</td>\n",
       "      <td>NaN</td>\n",
       "      <td>NaN</td>\n",
       "      <td>NaN</td>\n",
       "      <td>NaN</td>\n",
       "      <td>NaN</td>\n",
       "      <td>NaN</td>\n",
       "    </tr>\n",
       "    <tr>\n",
       "      <th>4</th>\n",
       "      <td>Michel</td>\n",
       "      <td>Aguena</td>\n",
       "      <td>aguena@if.usp.br</td>\n",
       "      <td>NaN</td>\n",
       "      <td>NaN</td>\n",
       "      <td>DESC</td>\n",
       "      <td>Member</td>\n",
       "      <td>NaN</td>\n",
       "      <td>NaN</td>\n",
       "      <td>NaN</td>\n",
       "      <td>NaN</td>\n",
       "      <td>NaN</td>\n",
       "      <td>NaN</td>\n",
       "    </tr>\n",
       "  </tbody>\n",
       "</table>\n",
       "</div>"
      ],
      "text/plain": [
       "       First Name Last Name                      Email     Telephone  \\\n",
       "0          Ghaleb   Abdulla          abdulla1@llnl.gov  925-423-5947   \n",
       "1  Paul Alexander     Abell      paul.a.abell@nasa.gov  281-483-0293   \n",
       "2            Eric      Agol  agol@astro.washington.edu           NaN   \n",
       "3            Eric      Agol  agol@astro.washington.edu           NaN   \n",
       "4          Michel    Aguena           aguena@if.usp.br           NaN   \n",
       "\n",
       "                                  Company Contact Category       Role  \\\n",
       "0  Lawrence Livermore National Laboratory       Transients     Member   \n",
       "1               NASA Johnson Space Center     Solar System     Member   \n",
       "2                University of Washington       Transients     Member   \n",
       "3                University of Washington   Strong Lensing  Affiliate   \n",
       "4                                     NaN             DESC     Member   \n",
       "\n",
       "   Unnamed: 7  Unnamed: 8  Unnamed: 9  Unnamed: 10  Unnamed: 11  Unnamed: 12  \n",
       "0         NaN         NaN         NaN          NaN          NaN          NaN  \n",
       "1         NaN         NaN         NaN          NaN          NaN          NaN  \n",
       "2         NaN         NaN         NaN          NaN          NaN          NaN  \n",
       "3         NaN         NaN         NaN          NaN          NaN          NaN  \n",
       "4         NaN         NaN         NaN          NaN          NaN          NaN  "
      ]
     },
     "execution_count": 94,
     "metadata": {},
     "output_type": "execute_result"
    }
   ],
   "source": [
    "affiliations.head()"
   ]
  },
  {
   "cell_type": "code",
   "execution_count": 95,
   "metadata": {},
   "outputs": [
    {
     "data": {
      "text/plain": [
       "array(['Transients', 'Solar System', 'Strong Lensing', 'DESC', 'Galaxies',\n",
       "       'AGN', 'Stars', 'Milky Way and Local Volume',\n",
       "       'Statistics and Informatics'], dtype=object)"
      ]
     },
     "execution_count": 95,
     "metadata": {},
     "output_type": "execute_result"
    }
   ],
   "source": [
    "affiliations['Contact Category'].unique()"
   ]
  },
  {
   "cell_type": "code",
   "execution_count": 96,
   "metadata": {
    "ExecuteTime": {
     "end_time": "2018-04-15T10:20:19.267457-04:00",
     "start_time": "2018-04-15T10:20:19.041607"
    }
   },
   "outputs": [
    {
     "data": {
      "text/plain": [
       "(1018, 13)"
      ]
     },
     "execution_count": 96,
     "metadata": {},
     "output_type": "execute_result"
    }
   ],
   "source": [
    "affiliations.shape"
   ]
  },
  {
   "cell_type": "code",
   "execution_count": 97,
   "metadata": {
    "ExecuteTime": {
     "end_time": "2018-04-15T10:20:19.621230-04:00",
     "start_time": "2018-04-15T10:20:19.608617"
    }
   },
   "outputs": [],
   "source": [
    "affiliations[\"Contact Category\"] =\\\n",
    "    affiliations[\"Contact Category\"].apply(lambda x:x.strip())"
   ]
  },
  {
   "cell_type": "code",
   "execution_count": 98,
   "metadata": {},
   "outputs": [
    {
     "data": {
      "text/plain": [
       "array(['Transients', 'Solar System', 'Strong Lensing', 'DESC', 'Galaxies',\n",
       "       'AGN', 'Stars', 'Milky Way and Local Volume',\n",
       "       'Statistics and Informatics'], dtype=object)"
      ]
     },
     "execution_count": 98,
     "metadata": {},
     "output_type": "execute_result"
    }
   ],
   "source": [
    "affiliations[\"Contact Category\"].unique()"
   ]
  },
  {
   "cell_type": "code",
   "execution_count": 99,
   "metadata": {
    "ExecuteTime": {
     "end_time": "2018-04-15T10:20:19.449101-04:00",
     "start_time": "2018-04-15T10:20:19.276695"
    }
   },
   "outputs": [
    {
     "data": {
      "text/plain": [
       "(991, 13)"
      ]
     },
     "execution_count": 99,
     "metadata": {},
     "output_type": "execute_result"
    }
   ],
   "source": [
    "affiliations.drop_duplicates(subset=[\"First Name\",\"Last Name\",\"Contact Category\"], inplace=True)\n",
    "affiliations.shape"
   ]
  },
  {
   "cell_type": "code",
   "execution_count": 100,
   "metadata": {
    "ExecuteTime": {
     "end_time": "2018-04-15T10:20:19.470340-04:00",
     "start_time": "2018-04-15T10:20:19.452190"
    }
   },
   "outputs": [
    {
     "data": {
      "text/plain": [
       "169"
      ]
     },
     "execution_count": 100,
     "metadata": {},
     "output_type": "execute_result"
    }
   ],
   "source": [
    "(affiliations[\"Contact Category\"] == 'DESC').sum()"
   ]
  },
  {
   "cell_type": "code",
   "execution_count": 101,
   "metadata": {
    "ExecuteTime": {
     "end_time": "2018-04-15T10:20:19.603029-04:00",
     "start_time": "2018-04-15T10:20:19.475604"
    }
   },
   "outputs": [
    {
     "data": {
      "text/html": [
       "<div>\n",
       "<style scoped>\n",
       "    .dataframe tbody tr th:only-of-type {\n",
       "        vertical-align: middle;\n",
       "    }\n",
       "\n",
       "    .dataframe tbody tr th {\n",
       "        vertical-align: top;\n",
       "    }\n",
       "\n",
       "    .dataframe thead th {\n",
       "        text-align: right;\n",
       "    }\n",
       "</style>\n",
       "<table border=\"1\" class=\"dataframe\">\n",
       "  <thead>\n",
       "    <tr style=\"text-align: right;\">\n",
       "      <th></th>\n",
       "      <th>Unnamed: 7</th>\n",
       "      <th>Unnamed: 8</th>\n",
       "      <th>Unnamed: 9</th>\n",
       "      <th>Unnamed: 10</th>\n",
       "      <th>Unnamed: 11</th>\n",
       "      <th>Unnamed: 12</th>\n",
       "    </tr>\n",
       "  </thead>\n",
       "  <tbody>\n",
       "    <tr>\n",
       "      <th>count</th>\n",
       "      <td>0.0</td>\n",
       "      <td>0.0</td>\n",
       "      <td>0.0</td>\n",
       "      <td>0.0</td>\n",
       "      <td>0.0</td>\n",
       "      <td>0.0</td>\n",
       "    </tr>\n",
       "    <tr>\n",
       "      <th>mean</th>\n",
       "      <td>NaN</td>\n",
       "      <td>NaN</td>\n",
       "      <td>NaN</td>\n",
       "      <td>NaN</td>\n",
       "      <td>NaN</td>\n",
       "      <td>NaN</td>\n",
       "    </tr>\n",
       "    <tr>\n",
       "      <th>std</th>\n",
       "      <td>NaN</td>\n",
       "      <td>NaN</td>\n",
       "      <td>NaN</td>\n",
       "      <td>NaN</td>\n",
       "      <td>NaN</td>\n",
       "      <td>NaN</td>\n",
       "    </tr>\n",
       "    <tr>\n",
       "      <th>min</th>\n",
       "      <td>NaN</td>\n",
       "      <td>NaN</td>\n",
       "      <td>NaN</td>\n",
       "      <td>NaN</td>\n",
       "      <td>NaN</td>\n",
       "      <td>NaN</td>\n",
       "    </tr>\n",
       "    <tr>\n",
       "      <th>25%</th>\n",
       "      <td>NaN</td>\n",
       "      <td>NaN</td>\n",
       "      <td>NaN</td>\n",
       "      <td>NaN</td>\n",
       "      <td>NaN</td>\n",
       "      <td>NaN</td>\n",
       "    </tr>\n",
       "    <tr>\n",
       "      <th>50%</th>\n",
       "      <td>NaN</td>\n",
       "      <td>NaN</td>\n",
       "      <td>NaN</td>\n",
       "      <td>NaN</td>\n",
       "      <td>NaN</td>\n",
       "      <td>NaN</td>\n",
       "    </tr>\n",
       "    <tr>\n",
       "      <th>75%</th>\n",
       "      <td>NaN</td>\n",
       "      <td>NaN</td>\n",
       "      <td>NaN</td>\n",
       "      <td>NaN</td>\n",
       "      <td>NaN</td>\n",
       "      <td>NaN</td>\n",
       "    </tr>\n",
       "    <tr>\n",
       "      <th>max</th>\n",
       "      <td>NaN</td>\n",
       "      <td>NaN</td>\n",
       "      <td>NaN</td>\n",
       "      <td>NaN</td>\n",
       "      <td>NaN</td>\n",
       "      <td>NaN</td>\n",
       "    </tr>\n",
       "  </tbody>\n",
       "</table>\n",
       "</div>"
      ],
      "text/plain": [
       "       Unnamed: 7  Unnamed: 8  Unnamed: 9  Unnamed: 10  Unnamed: 11  \\\n",
       "count         0.0         0.0         0.0          0.0          0.0   \n",
       "mean          NaN         NaN         NaN          NaN          NaN   \n",
       "std           NaN         NaN         NaN          NaN          NaN   \n",
       "min           NaN         NaN         NaN          NaN          NaN   \n",
       "25%           NaN         NaN         NaN          NaN          NaN   \n",
       "50%           NaN         NaN         NaN          NaN          NaN   \n",
       "75%           NaN         NaN         NaN          NaN          NaN   \n",
       "max           NaN         NaN         NaN          NaN          NaN   \n",
       "\n",
       "       Unnamed: 12  \n",
       "count          0.0  \n",
       "mean           NaN  \n",
       "std            NaN  \n",
       "min            NaN  \n",
       "25%            NaN  \n",
       "50%            NaN  \n",
       "75%            NaN  \n",
       "max            NaN  "
      ]
     },
     "execution_count": 101,
     "metadata": {},
     "output_type": "execute_result"
    }
   ],
   "source": [
    "affiliations.dropna(subset=[\"Contact Category\"], inplace=True)\n",
    "affiliations.describe()"
   ]
  },
  {
   "cell_type": "code",
   "execution_count": 102,
   "metadata": {
    "ExecuteTime": {
     "end_time": "2018-04-15T10:20:19.638207-04:00",
     "start_time": "2018-04-15T10:20:19.624975"
    }
   },
   "outputs": [
    {
     "name": "stderr",
     "output_type": "stream",
     "text": [
      "/Users/fbb/anaconda3/lib/python3.7/site-packages/ipykernel_launcher.py:1: DeprecationWarning: \n",
      ".ix is deprecated. Please use\n",
      ".loc for label based indexing or\n",
      ".iloc for positional indexing\n",
      "\n",
      "See the documentation here:\n",
      "http://pandas.pydata.org/pandas-docs/stable/indexing.html#ix-indexer-is-deprecated\n",
      "  \"\"\"Entry point for launching an IPython kernel.\n",
      "/Users/fbb/anaconda3/lib/python3.7/site-packages/ipykernel_launcher.py:3: DeprecationWarning: \n",
      ".ix is deprecated. Please use\n",
      ".loc for label based indexing or\n",
      ".iloc for positional indexing\n",
      "\n",
      "See the documentation here:\n",
      "http://pandas.pydata.org/pandas-docs/stable/indexing.html#ix-indexer-is-deprecated\n",
      "  This is separate from the ipykernel package so we can avoid doing imports until\n"
     ]
    }
   ],
   "source": [
    "affiliations.ix[affiliations[\"Contact Category\"] == 'Stars', \"Contact Category\"] = 'Stars, Milky Way, and Local Volume'\n",
    "affiliations.ix[affiliations[\"Contact Category\"] == \n",
    "             'Milky Way and Local Volume', \"Contact Category\"] = 'Stars, Milky Way, and Local Volume'"
   ]
  },
  {
   "cell_type": "code",
   "execution_count": 103,
   "metadata": {},
   "outputs": [
    {
     "name": "stderr",
     "output_type": "stream",
     "text": [
      "/Users/fbb/anaconda3/lib/python3.7/site-packages/ipykernel_launcher.py:1: DeprecationWarning: \n",
      ".ix is deprecated. Please use\n",
      ".loc for label based indexing or\n",
      ".iloc for positional indexing\n",
      "\n",
      "See the documentation here:\n",
      "http://pandas.pydata.org/pandas-docs/stable/indexing.html#ix-indexer-is-deprecated\n",
      "  \"\"\"Entry point for launching an IPython kernel.\n"
     ]
    }
   ],
   "source": [
    "affiliations.ix[affiliations[\"Contact Category\"] == 'Weak Lensing', \"Contact Category\"] = 'DESC'\n"
   ]
  },
  {
   "cell_type": "code",
   "execution_count": 104,
   "metadata": {
    "ExecuteTime": {
     "end_time": "2018-04-15T10:20:19.749607-04:00",
     "start_time": "2018-04-15T10:20:19.642944"
    }
   },
   "outputs": [
    {
     "name": "stderr",
     "output_type": "stream",
     "text": [
      "/Users/fbb/anaconda3/lib/python3.7/site-packages/ipykernel_launcher.py:1: DeprecationWarning: \n",
      ".ix is deprecated. Please use\n",
      ".loc for label based indexing or\n",
      ".iloc for positional indexing\n",
      "\n",
      "See the documentation here:\n",
      "http://pandas.pydata.org/pandas-docs/stable/indexing.html#ix-indexer-is-deprecated\n",
      "  \"\"\"Entry point for launching an IPython kernel.\n"
     ]
    }
   ],
   "source": [
    "affiliations.ix[affiliations[\"Contact Category\"] == 'Supernovae', \"Contact Category\"] = 'DESC'\n",
    "\n",
    "#affiliations = affiliations[~(\n",
    "#        (affiliations[\"Contact Category\"] == 'Weak Lensing') | \n",
    "#             (affiliations[\"Contact Category\"] == 'Supernovae'))]\n",
    "#affiliations.shape"
   ]
  },
  {
   "cell_type": "code",
   "execution_count": 105,
   "metadata": {},
   "outputs": [
    {
     "data": {
      "text/plain": [
       "169"
      ]
     },
     "execution_count": 105,
     "metadata": {},
     "output_type": "execute_result"
    }
   ],
   "source": [
    "(affiliations[\"Contact Category\"] == 'DESC').sum()"
   ]
  },
  {
   "cell_type": "code",
   "execution_count": 143,
   "metadata": {},
   "outputs": [],
   "source": [
    "affiliations.rename({'Transients':'Transients and Variable Star'}, axis=1, inplace=True)"
   ]
  },
  {
   "cell_type": "code",
   "execution_count": 144,
   "metadata": {
    "ExecuteTime": {
     "end_time": "2018-04-15T10:20:19.770055-04:00",
     "start_time": "2018-04-15T10:20:19.754316"
    }
   },
   "outputs": [
    {
     "name": "stdout",
     "output_type": "stream",
     "text": [
      "abdulla1@llnl.gov\n",
      "0    Transients\n",
      "Name: Contact Category, dtype: object\n"
     ]
    }
   ],
   "source": [
    "for em in affiliations.Email.unique()[:1]:\n",
    "    print (em) \n",
    "    print (affiliations[affiliations.Email == em][\"Contact Category\"])"
   ]
  },
  {
   "cell_type": "code",
   "execution_count": 145,
   "metadata": {
    "ExecuteTime": {
     "end_time": "2018-04-15T10:20:19.784817-04:00",
     "start_time": "2018-04-15T10:20:19.774023"
    }
   },
   "outputs": [
    {
     "data": {
      "text/plain": [
       "(8, 8)"
      ]
     },
     "execution_count": 145,
     "metadata": {},
     "output_type": "execute_result"
    }
   ],
   "source": [
    "scmatrix = np.zeros((affiliations[\"Contact Category\"].unique().shape[0],\n",
    "                     affiliations[\"Contact Category\"].unique().shape[0]))\n",
    "scmatrix.shape"
   ]
  },
  {
   "cell_type": "code",
   "execution_count": 146,
   "metadata": {
    "ExecuteTime": {
     "end_time": "2018-04-15T10:20:19.801953-04:00",
     "start_time": "2018-04-15T10:20:19.791554"
    }
   },
   "outputs": [
    {
     "data": {
      "text/plain": [
       "array(['Transients', 'Solar System', 'Strong Lensing', 'DESC', 'Galaxies',\n",
       "       'AGN', 'Stars, Milky Way, and Local Volume',\n",
       "       'Statistics and Informatics'], dtype=object)"
      ]
     },
     "execution_count": 146,
     "metadata": {},
     "output_type": "execute_result"
    }
   ],
   "source": [
    "affiliations[\"Contact Category\"].unique()"
   ]
  },
  {
   "cell_type": "code",
   "execution_count": 147,
   "metadata": {
    "ExecuteTime": {
     "end_time": "2018-04-15T10:20:19.823138-04:00",
     "start_time": "2018-04-15T10:20:19.807151"
    }
   },
   "outputs": [],
   "source": [
    "scdic = {}\n",
    "for i,sc in enumerate(affiliations[\"Contact Category\"].unique()):\n",
    "    scdic[sc] = i\n",
    "    scmatrix[i,i] = len(affiliations[affiliations[\"Contact Category\"] == \n",
    "                                     sc])"
   ]
  },
  {
   "cell_type": "code",
   "execution_count": 148,
   "metadata": {
    "ExecuteTime": {
     "end_time": "2018-04-15T10:20:20.720417-04:00",
     "start_time": "2018-04-15T10:20:19.827658"
    },
    "run_control": {
     "marked": false
    }
   },
   "outputs": [
    {
     "data": {
      "image/png": "[encoded data removed]",
      "text/plain": [
       "<Figure size 432x288 with 2 Axes>"
      ]
     },
     "metadata": {
      "needs_background": "light"
     },
     "output_type": "display_data"
    }
   ],
   "source": [
    "fig = pl.figure()\n",
    "ax = fig.add_subplot(111)\n",
    "cax = ax.imshow(scmatrix)\n",
    "ax.set_yticks(range(8))\n",
    "ax.set_yticklabels([\"%s\"%s for s in affiliations[\"Contact Category\"].unique()])#affiliations[\"Contact Category\"].unique()\n",
    "fig.colorbar(cax);"
   ]
  },
  {
   "cell_type": "code",
   "execution_count": 149,
   "metadata": {
    "ExecuteTime": {
     "end_time": "2018-04-15T10:20:20.831095-04:00",
     "start_time": "2018-04-15T10:20:20.732214"
    },
    "scrolled": false
   },
   "outputs": [
    {
     "name": "stdout",
     "output_type": "stream",
     "text": [
      "0                         abdulla1@llnl.gov\n",
      "2                 agol@astro.washington.edu\n",
      "5                 marcel@astro.columbia.edu\n",
      "13                  javier.alonso@uantof.cl\n",
      "17            anderson@astro.washington.edu\n",
      "23              manuel.aravenaa@mail.udp.cl\n",
      "25                david.ardila@jpl.nasa.gov\n",
      "30                   pierre.astier@in2p3.fr\n",
      "41      david.ballantyne@physics.gatech.edu\n",
      "44                eabaltz@slac.stanford.edu\n",
      "61                        kbechtol@lsst.org\n",
      "67                       ericbell@umich.edu\n",
      "74                   D.F.Bersier@ljmu.ac.uk\n",
      "76                          fbianco@nyu.edu\n",
      "79                       rbiswas4@gmail.com\n",
      "81                       blanc@lal.in2p3.fr\n",
      "84                        blazek.35@osu.edu\n",
      "92                   bongard@lpnhe.in2p3.fr\n",
      "101              jbosch@astro.princeton.edu\n",
      "105                  botticella@na.astro.it\n",
      "106                       boutigny@in2p3.fr\n",
      "111                      niel@astro.psu.edu\n",
      "116                   sarah@sarahbridle.net\n",
      "122                      mbrown@caltech.edu\n",
      "130                      philbull@gmail.com\n",
      "133                    burchat@stanford.edu\n",
      "135                 daveb@slac.stanford.edu\n",
      "155                     brad.cenko@nasa.gov\n",
      "167               jchiang@slac.stanford.edu\n",
      "174                 ciardi@ipac.caltech.edu\n",
      "                       ...                 \n",
      "864                         smotherh@uw.edu\n",
      "865                           csn@roe.ac.uk\n",
      "869                solontoi.m@lynchburg.edu\n",
      "876                      sastanford@mac.com\n",
      "879           keivan.stassun@vanderbilt.edu\n",
      "886                      strader@pa.msu.edu\n",
      "888                giulia.stratta@uniurb.it\n",
      "891             strauss@astro.princeton.edu\n",
      "905                       rszabo@konkoly.hu\n",
      "909             dtaranu@astro.princeton.edu\n",
      "911                       jtheiler@lanl.gov\n",
      "913                 Cristina.Thomas@nau.edu\n",
      "922             l-trouille@northwestern.edu\n",
      "930               tyson@physics.ucdavis.edu\n",
      "935                lvenuti@astropa.unipa.it\n",
      "938         aprajita.verma@physics.ox.ac.uk\n",
      "939                       vestrand@lanl.gov\n",
      "947                      vogeley@drexel.edu\n",
      "951                 michalvrastil@seznam.cz\n",
      "955                 l.m.walkowicz@gmail.com\n",
      "967      daniel.weatherill@physics.ox.ac.uk\n",
      "973                       mwellsa@gmail.com\n",
      "977                  matthewwiesner@aol.com\n",
      "983                    gmwilliger@gmail.com\n",
      "986            dwittman@physics.ucdavis.edu\n",
      "989                          womack@usf.edu\n",
      "990                           wmwv@pitt.edu\n",
      "1000                         yoachim@uw.edu\n",
      "1011                       zentner@pitt.edu\n",
      "1013                      gbzhao@nao.cas.cn\n",
      "Name: Email, Length: 194, dtype: object\n",
      "1                       paul.a.abell@nasa.gov\n",
      "38                      StephenBailey@lbl.gov\n",
      "47                      m.bannister@qub.ac.uk\n",
      "49                      mauro.barbieri@uda.cl\n",
      "56                bartlett@apc.univ-paris7.fr\n",
      "66                           beers@pa.msu.edu\n",
      "80                       biviano@oats.inaf.it\n",
      "97                 borgland@slac.stanford.edu\n",
      "100                        tboroson@lcogt.net\n",
      "114                    M.Bremer@bristol.ac.uk\n",
      "115                carrie.bridge@jpl.nasa.gov\n",
      "134                       aburgasser@ucsd.edu\n",
      "136                    dburke@cfa.harvard.edu\n",
      "140                  yongzhi.cai@oapd.inaf.it\n",
      "141                  calabresee@cardiff.ac.uk\n",
      "187       johann.cohen-tanugi@umontpellier.fr\n",
      "194                  ajc@astro.washington.edu\n",
      "221                     marina.ponte@ufrgs.br\n",
      "228             roger.davies@physics.ox.ac.uk\n",
      "229                          cpd@stanford.edu\n",
      "241                         ian@het.brown.edu\n",
      "248                    tanio.diaz@mail.udp.cl\n",
      "271                 ardis@astro.princeton.edu\n",
      "280                     falco@cfa.harvard.edu\n",
      "281                        fan@as.arizona.edu\n",
      "297             merlin.fisherlevine@gmail.com\n",
      "308                      brendafrye@gmail.com\n",
      "314                    lluisgalbany@gmail.com\n",
      "325                     genovese.cr@gmail.com\n",
      "343                        dgold@berkeley.edu\n",
      "                        ...                  \n",
      "786                    gsacco@arcetri.inaf.it\n",
      "794            omsharan.salafia@brera.inaf.it\n",
      "799                         ata@astro.ufl.edu\n",
      "804                 charles.schambeau@ucf.edu\n",
      "818                 rseaman@email.arizona.edu\n",
      "842                           dsilva@noao.edu\n",
      "845                     msimet@andrew.cmu.edu\n",
      "847                     leo.p.singer@nasa.gov\n",
      "851                           ctslater@uw.edu\n",
      "857                           smithj@apsu.edu\n",
      "872                     rosanna.sordo@inaf.it\n",
      "875                           aspitz@lsst.org\n",
      "881               d.t.h.steeghs@warwick.ac.uk\n",
      "887                        strader@pa.msu.edu\n",
      "896               strauss@astro.princeton.edu\n",
      "912                       thirouin@lowell.edu\n",
      "915            john.thorstensen@dartmouth.edu\n",
      "921                    vtrimble@astro.umd.edu\n",
      "925                           trujillo@iac.es\n",
      "934     daniel.vandenberk@email.stvincent.edu\n",
      "940                     giacomov@stanford.edu\n",
      "952                            rjw@hawaii.edu\n",
      "960                   l.m.walkowicz@gmail.com\n",
      "978                    matthewwiesner@aol.com\n",
      "992                             wmwv@pitt.edu\n",
      "993                        michaelw@umich.edu\n",
      "998                           qye@caltech.edu\n",
      "1006                     idit.zehavi@case.edu\n",
      "1012                        zhanhu@nao.cas.cn\n",
      "1015                    mzoccali@astro.puc.cl\n",
      "Name: Email, Length: 94, dtype: object\n",
      "3           agol@astro.washington.edu\n",
      "6           marcel@astro.columbia.edu\n",
      "9            mallen@slac.stanford.edu\n",
      "19                 tanguita@gmail.com\n",
      "35             humna.awan@rutgers.edu\n",
      "46             mbanerji@ast.cam.ac.uk\n",
      "89       boeshaar@physics.ucdavis.edu\n",
      "113                niel@astro.psu.edu\n",
      "119                 MBrother@uwyo.edu\n",
      "146    roberta.carini@oa-roma.inaf.it\n",
      "181                wiclarks@umich.edu\n",
      "243                    fdemeo@mit.edu\n",
      "283    Davide.Farnocchia@jpl.nasa.gov\n",
      "293       stevenf@astro.as.utexas.edu\n",
      "312            cfuentes@das.uchile.cl\n",
      "320       gawiser@physics.rutgers.edu\n",
      "321               marla.geha@yale.edu\n",
      "327                suvi@astro.umd.edu\n",
      "354         carlo@oddjob.uchicago.edu\n",
      "393            shirleyho@berkeley.edu\n",
      "395     holberg@argus.lpl.arizona.edu\n",
      "396                 bholler@stsci.edu\n",
      "470         vishal.kasliwal@gmail.com\n",
      "480                      kilic@ou.edu\n",
      "497                 krughoff@lsst.org\n",
      "499              akulier@astro.puc.cl\n",
      "517                      lee@noao.edu\n",
      "545               lmlubin@ucdavis.edu\n",
      "554        jlutz@astro.washington.edu\n",
      "595    nicolas.mauron@umontpellier.fr\n",
      "621                 mmodjaz@gmail.com\n",
      "677               ogando@linea.gov.br\n",
      "735                 mubdi@pha.jhu.edu\n",
      "753       jason.d.rhodes@jpl.nasa.gov\n",
      "769              crockosi@ucolick.org\n",
      "770       rodriguez.jr.joey@gmail.com\n",
      "783                  dr24@cornell.edu\n",
      "893       strauss@astro.princeton.edu\n",
      "926    ytsapras@ari.uni-heidelberg.de\n",
      "963             chris.walter@duke.edu\n",
      "981          ben@astro.washington.edu\n",
      "987      dwittman@physics.ucdavis.edu\n",
      "999                    yoachim@uw.edu\n",
      "Name: Email, dtype: object\n",
      "4                        aguena@if.usp.br\n",
      "8                       galdering@lbl.gov\n",
      "10                       swa@stanford.edu\n",
      "12      david.alonso@physics.oxford.ac.uk\n",
      "21              Pierre.Antilogus@in2p3.fr\n",
      "22      simone.antoniucci@oa-roma.inaf.it\n",
      "32                  avestruz@uchicago.edu\n",
      "36          michael.aye@lasp.colorado.edu\n",
      "37                           babu@psu.edu\n",
      "42                balmaverde@oato.inaf.it\n",
      "54                          barth@uci.edu\n",
      "55            bartlett@apc.univ-paris7.fr\n",
      "60                rbean@astro.cornell.edu\n",
      "63            becker@astro.washington.edu\n",
      "65                becla@slac.stanford.edu\n",
      "68            keatonb@astro.as.utexas.edu\n",
      "82                      rdb3@stanford.edu\n",
      "86                         rblum@lsst.org\n",
      "88                      dennis@auburn.edu\n",
      "91                          heb11@psu.edu\n",
      "102            jbosch@astro.princeton.edu\n",
      "108            marusa@physics.ucdavis.edu\n",
      "112                    niel@astro.psu.edu\n",
      "117             christopher.britt@ttu.edu\n",
      "120                  s.brough@unsw.edu.au\n",
      "127                      budavari@jhu.edu\n",
      "142                     calamida@noao.edu\n",
      "145              pcargile@cfa.harvard.edu\n",
      "149                 mcarras2@illinois.edu\n",
      "156                         chamba@iac.es\n",
      "                      ...                \n",
      "806         jtschindler@email.arizona.edu\n",
      "807          sschmidt@physics.ucdavis.edu\n",
      "812                  schneider42@llnl.gov\n",
      "813              mschwamb.astro@gmail.com\n",
      "815               ryan.scranton@gmail.com\n",
      "817             rseaman@email.arizona.edu\n",
      "828                          ohad@unt.edu\n",
      "829              kenshen@post.harvard.edu\n",
      "830                  sheppard@dtm.ciw.edu\n",
      "836                        jsick@lsst.org\n",
      "848                       ctslater@uw.edu\n",
      "861                nathans@as.arizona.edu\n",
      "862                  csmith@ctio.noao.edu\n",
      "866                     gsnyder@stsci.edu\n",
      "873               dns@astro.princeton.edu\n",
      "880                        jordan@psi.edu\n",
      "894           strauss@astro.princeton.edu\n",
      "898                    rstreet@lco.global\n",
      "902              subasavage@nofs.navy.mil\n",
      "910                    ntejos@ucolick.org\n",
      "916           tissera.patriciab@gmail.com\n",
      "928             tyson@physics.ucdavis.edu\n",
      "933           antonella.vallenari@inaf.it\n",
      "941                  jvieira@illinois.edu\n",
      "942                     vilalta@cs.uh.edu\n",
      "949                avdl@dark-cosmology.dk\n",
      "953                 awalker@ctio.noao.edu\n",
      "970                rwechsler@stanford.edu\n",
      "982                         wms@stsci.edu\n",
      "1005                     zauderer@nyu.edu\n",
      "Name: Email, Length: 169, dtype: object\n",
      "7                             mohammad@akhlaghi.org\n",
      "20                              ansari@lal.in2p3.fr\n",
      "24                                 arcavi@gmail.com\n",
      "28                           darnett@as.arizona.edu\n",
      "29                        roberto.assef@mail.udp.cl\n",
      "34                            avestruz@uchicago.edu\n",
      "45                                     martin@on.br\n",
      "48                                rbarba@userena.cl\n",
      "57                                    gbass@gmu.edu\n",
      "59                             mbaumer@stanford.edu\n",
      "75                      marc.betoule@lpnhe.in2p3.fr\n",
      "85                        jbloom@astro.berkeley.edu\n",
      "87                              bochanski@gmail.com\n",
      "90                            bolin.astro@gmail.com\n",
      "107                 rebecca.bowler@physics.ox.ac.uk\n",
      "110                              niel@astro.psu.edu\n",
      "118                    enzo.brocato@oa-roma.inaf.it\n",
      "123                         pbrown@physics.tamu.edu\n",
      "125                             bigdog@illinois.edu\n",
      "132                            burchat@stanford.edu\n",
      "164                      chernoff@astro.cornell.edu\n",
      "171                               chornock@ohio.edu\n",
      "177                         lucas.cieza@mail.udp.cl\n",
      "219                           ldacosta@linea.gov.br\n",
      "222                             dallora@na.astro.it\n",
      "227                              jid@astro.cf.ac.uk\n",
      "258                           luke@boulder.swri.edu\n",
      "259                        olivier.dore@caltech.edu\n",
      "260                          aaron.dotter@gmail.com\n",
      "265                             dubois@stanford.edu\n",
      "                           ...                     \n",
      "713                    silvia.piranomonte@gmail.com\n",
      "751                                 arest@stsci.edu\n",
      "752                            james.rhoads@asu.edu\n",
      "760                             ricol@lpsc.in2p3.fr\n",
      "775                       mauro.roncarelli@unibo.it\n",
      "780     cecile.portello-roucelle@apc.univ-paris7.fr\n",
      "782                              runnoejc@umich.edu\n",
      "793                             masao@sas.upenn.edu\n",
      "797                                 francs1@uci.edu\n",
      "832                    raphael.shirley@sussex.ac.uk\n",
      "841                  asiemiginowska@cfa.harvard.edu\n",
      "843                        nms@astro.washington.edu\n",
      "850                                 ctslater@uw.edu\n",
      "860                          gps@star.sr.bham.ac.uk\n",
      "882                   katrien.steenbrugge@gmail.com\n",
      "883                                 astern@swri.edu\n",
      "892                     strauss@astro.princeton.edu\n",
      "901                            stubbs@g.harvard.edu\n",
      "908                     dtamayo@astro.princeton.edu\n",
      "914                     thorman@physics.ucdavis.edu\n",
      "931                               meg.urry@yale.edu\n",
      "936                          pveres@cfa.harvard.edu\n",
      "937                 aprajita.verma@physics.ox.ac.uk\n",
      "943                         vvillar@cfa.harvard.edu\n",
      "954                         l.m.walkowicz@gmail.com\n",
      "974                                wenaus@gmail.com\n",
      "988                           wolpert@STAT.Duke.edu\n",
      "994                                wozniak@lanl.gov\n",
      "1007                               zentner@pitt.edu\n",
      "1016                           adizolotov@gmail.com\n",
      "Name: Email, Length: 106, dtype: object\n",
      "11               T.R.Almeyda@soton.ac.uk\n",
      "18                    tanguita@gmail.com\n",
      "31                      eric@aubourg.net\n",
      "43                  mbalogh@uwaterloo.ca\n",
      "58                   fbauer@astro.puc.cl\n",
      "62           becker@astro.washington.edu\n",
      "121                     tbrown@lcogt.net\n",
      "131                      bullock@uci.edu\n",
      "138             nathaniel.butler@asu.edu\n",
      "182                     cclaver@lsst.org\n",
      "200                      acooray@uci.edu\n",
      "231                anna.queiroz@ufrgs.br\n",
      "238           alis.j.deason@durham.ac.uk\n",
      "244                   denneau@hawaii.edu\n",
      "272                   f.elsner@ucl.ac.uk\n",
      "315               lluisgalbany@gmail.com\n",
      "316                 p.gandhi@soton.ac.uk\n",
      "322                dgeisler@astroudec.cl\n",
      "382                         hebb@hws.edu\n",
      "406                inno@arcetri.astro.it\n",
      "410             ishida@clermont.in2p3.fr\n",
      "454                 ajordan@astro.puc.cl\n",
      "478           somayeh.khakpash@gmail.com\n",
      "494               lise@slac.stanford.edu\n",
      "504                radostin.kurtev@uv.cl\n",
      "556      chelsea.macleod@cfa.harvard.edu\n",
      "583            marshall@physics.tamu.edu\n",
      "586                           cml@iac.es\n",
      "592              j.maund@sheffield.ac.uk\n",
      "610            gerhardt.meurer@icrar.org\n",
      "611           davemeyer@northwestern.edu\n",
      "642                  rmunoz@astro.puc.cl\n",
      "646          ilaria.musella@oacn.inaf.it\n",
      "671                     penugent@lbl.gov\n",
      "695       andrea.pastorello@oapd.inaf.it\n",
      "696           matthewjohnpayne@gmail.com\n",
      "727               andrew.f.ptak@nasa.gov\n",
      "729     puckett_andrew@columbusstate.edu\n",
      "740            arasmus@slac.stanford.edu\n",
      "759                pmricker@illinois.edu\n",
      "764           chiara.righi@brera.inaf.it\n",
      "795                   salims@indiana.edu\n",
      "816          jillian.scudder@oberlin.edu\n",
      "831         ian.shipsey@physics.ox.ac.uk\n",
      "871                    soraisam@noao.edu\n",
      "899                   jsstuart@gmail.com\n",
      "927     tsybych@sbhep.physics.sunysb.edu\n",
      "932               stfn.valenti@gmail.com\n",
      "946                 kvivas@ctio.noao.edu\n",
      "950               avdl@dark-cosmology.dk\n",
      "962                   jfwallin@gmail.com\n",
      "980                 vw8@st-andrews.ac.uk\n",
      "991                        wmwv@pitt.edu\n",
      "1014                 zzheng@astro.puc.cl\n",
      "Name: Email, dtype: object\n",
      "14           javier.alonso@uantof.cl\n",
      "15               anderes@ucdavis.edu\n",
      "26            maria.argudo@uantof.cl\n",
      "27              lee@ipac.caltech.edu\n",
      "50          djbard@slac.stanford.edu\n",
      "51                   barrau@in2p3.fr\n",
      "52              luis.barrera@umce.cl\n",
      "53           barrientos@astro.puc.cl\n",
      "70                    ecbellm@uw.edu\n",
      "71              vasily@ast.cam.ac.uk\n",
      "72           eberger@cfa.harvard.edu\n",
      "73           garyb@physics.upenn.edu\n",
      "77                   fbianco@nyu.edu\n",
      "78      mbianconi@star.sr.bham.ac.uk\n",
      "93          sbonito@astropa.unipa.it\n",
      "94          sbonito@astropa.unipa.it\n",
      "95                bono@roma2.infn.it\n",
      "96         mederic.boquien@uantof.cl\n",
      "98              kirk.borne@gmail.com\n",
      "99              kirk.borne@gmail.com\n",
      "103                   mbose2@asu.edu\n",
      "104                   asbosh@mit.edu\n",
      "128             camargo@linea.gov.br\n",
      "129            buie@boulder.swri.edu\n",
      "143            campagne@lal.in2p3.fr\n",
      "144      tristan.cantat@oapd.inaf.it\n",
      "147                 JCarlin@lsst.org\n",
      "148             maribel@oato.inaf.it\n",
      "151          paolo.cassata@gmail.com\n",
      "152            mcatelan@astro.puc.cl\n",
      "                    ...             \n",
      "904           m.sullivan@soton.ac.uk\n",
      "906      szkody@astro.washington.edu\n",
      "907           hyungusk.tak@gmail.com\n",
      "917            etreiste@astro.puc.cl\n",
      "918                tt@astro.ucla.edu\n",
      "919                tt@astro.ucla.edu\n",
      "920           david.trilling@nau.edu\n",
      "944                   asv13@pitt.edu\n",
      "945                    jsv@arm.ac.uk\n",
      "957          l.m.walkowicz@gmail.com\n",
      "958          l.m.walkowicz@gmail.com\n",
      "965                  wang@nhn.ou.edu\n",
      "966               larry@stat.cmu.edu\n",
      "968         r.webster@unimelb.edu.au\n",
      "969           rwechsler@stanford.edu\n",
      "971         weinberg@astro.umass.edu\n",
      "972               bjw@as.arizona.edu\n",
      "975            norbertw@stanford.edu\n",
      "976                    aawest@bu.edu\n",
      "984                bwillman@lsst.org\n",
      "985     dwittman@physics.ucdavis.edu\n",
      "995                padmayf@gmail.com\n",
      "996                   gxy909@psu.edu\n",
      "1001             d.r.young@qub.ac.uk\n",
      "1002        layoung@boulder.swri.edu\n",
      "1003                 wy73@drexel.edu\n",
      "1004       azabludoff@as.arizona.edu\n",
      "1008                zentner@pitt.edu\n",
      "1009                zentner@pitt.edu\n",
      "1017         joezuntz@googlemail.com\n",
      "Name: Email, Length: 261, dtype: object\n",
      "16           anderson@astro.washington.edu\n",
      "39                 charles.bailyn@yale.edu\n",
      "40                  balland@lpnhe.in2p3.fr\n",
      "69              fabio.bellagamba2@unibo.it\n",
      "83               michael.blanton@gmail.com\n",
      "109                 akbradshaw@ucdavis.edu\n",
      "124           marina.brozovic@jpl.nasa.gov\n",
      "137               burninghamster@gmail.com\n",
      "139                 gcabrera@dim.uchile.cl\n",
      "150              dana.casetti@aya.yale.edu\n",
      "153                  mcatelan@astro.puc.cl\n",
      "154              stefano.cavuoti@gmail.com\n",
      "184           gclayton@fenway.phys.lsu.edu\n",
      "186                         clowe@ohio.edu\n",
      "205           michael.w.coughlin@gmail.com\n",
      "232               demetradecicco@gmail.com\n",
      "292                    finch@usno.navy.mil\n",
      "317     emmanuel.gangler@clermont.in2p3.fr\n",
      "318              alessia.garofalo@unibo.it\n",
      "328      giancarlo.ghirlanda@brera.inaf.it\n",
      "351                    agray@cc.gatech.edu\n",
      "374                         harris@att.net\n",
      "400                        howell@noao.edu\n",
      "405                 walt@slac.stanford.edu\n",
      "408                irwin@slac.stanford.edu\n",
      "424                 a.jaffe@imperial.ac.uk\n",
      "426                      jao@astro.gsu.edu\n",
      "477         Eamonn.Kerins@manchester.ac.uk\n",
      "485                        dkirkby@uci.edu\n",
      "488                     zoran@aob.bg.ac.rs\n",
      "                       ...                \n",
      "653                    timn@astro.ex.ac.uk\n",
      "660                   neyrinck@pha.jhu.edu\n",
      "673               eric.nuss@univ-montp2.fr\n",
      "684                       holuseyi@fit.edu\n",
      "685                  npadilla@astro.puc.cl\n",
      "690              papovich@physics.tamu.edu\n",
      "691             hyeyun.park@stonybrook.edu\n",
      "715                       pplavcha@gmu.edu\n",
      "733                    mrabus@astro.puc.cl\n",
      "743                        arau@mpe.mpg.de\n",
      "744                  wreach@sofia.usra.edu\n",
      "762                       ridgway@noao.edu\n",
      "765                         sritz@ucsc.edu\n",
      "811                      dps@astro.psu.edu\n",
      "814                    paul.scowen@asu.edu\n",
      "819              rseaman@email.arizona.edu\n",
      "822              mauro.sereno@oabo.inaf.it\n",
      "840                         jsick@lsst.org\n",
      "858                    k.w.smith@qub.ac.uk\n",
      "870                sonnen@physics.ucsb.edu\n",
      "900                   stubbs@g.harvard.edu\n",
      "923                    troxel@utdallas.edu\n",
      "924                 chad.trujillo@nau.edu \n",
      "929              tyson@physics.ucdavis.edu\n",
      "948                  kvolk@lpl.arizona.edu\n",
      "961              wall@astro.washington.edu\n",
      "964                      naw@ast.cam.ac.uk\n",
      "979                 matthewwiesner@aol.com\n",
      "997                sheng.yang@oapd.inaf.it\n",
      "1010                      zentner@pitt.edu\n",
      "Name: Email, Length: 70, dtype: object\n"
     ]
    }
   ],
   "source": [
    "for sc in affiliations[\"Contact Category\"].unique():\n",
    "    print(affiliations[affiliations[\"Contact Category\"] == sc].Email)"
   ]
  },
  {
   "cell_type": "code",
   "execution_count": 150,
   "metadata": {
    "ExecuteTime": {
     "end_time": "2018-04-15T10:20:21.795616-04:00",
     "start_time": "2018-04-15T10:20:20.839720"
    },
    "scrolled": false
   },
   "outputs": [
    {
     "name": "stdout",
     "output_type": "stream",
     "text": [
      "agol@astro.washington.edu\n",
      "marcel@astro.columbia.edu\n",
      "javier.alonso@uantof.cl\n",
      "anderson@astro.washington.edu\n",
      "tanguita@gmail.com\n",
      "avestruz@uchicago.edu\n",
      "bartlett@apc.univ-paris7.fr\n",
      "becker@astro.washington.edu\n",
      "fbianco@nyu.edu\n",
      "sbonito@astropa.unipa.it\n",
      "kirk.borne@gmail.com\n",
      "jbosch@astro.princeton.edu\n",
      "niel@astro.psu.edu\n",
      "burchat@stanford.edu\n",
      "mcatelan@astro.puc.cl\n",
      "chartasg@cofc.edu\n",
      "chernoff@astro.cornell.edu\n",
      "cclaver@lsst.org\n",
      "johann.cohen-tanugi@umontpellier.fr\n",
      "ajc@astro.washington.edu\n",
      "kcook@noao.edu\n",
      "acooray@uci.edu\n",
      "kevin.covey@wwu.edu\n",
      "vpdebattista@gmail.com\n",
      "digel@slac.stanford.edu\n",
      "cdfassnacht@ucdavis.edu\n",
      "ferguson@roe.ac.uk\n",
      "giuliana.fiorentino@oabo.inaf.it\n",
      "brendafrye@gmail.com\n",
      "lluisgalbany@gmail.com\n",
      "gawiser@physics.rutgers.edu\n",
      "dgeisler@astroudec.cl\n",
      "dkg@slac.stanford.edu\n",
      "kglazebrook@swin.edu.au\n",
      "dgold@berkeley.edu\n",
      "agray@cc.gatech.edu\n",
      "habib@anl.gov\n",
      "slhawley@uw.edu\n",
      "hebb@hws.edu\n",
      "ivezic@uw.edu\n",
      "matt.jarvis@astro.ox.ac.uk\n",
      "jee.james@gmail.com\n",
      "saurabh@physics.rutgers.edu\n",
      "ljones.uw@gmail.com\n",
      "skahn@lsst.org\n",
      "krughoff@lsst.org\n",
      "rhl@astro.princeton.edu\n",
      "lmacri@tamu.edu\n",
      "davide.magurno@roma2.infn.it\n",
      "aam@astro.caltech.edu\n",
      "marcella.marconi@oacn.inaf.it\n",
      "dr.phil.marshall@gmail.com\n",
      "jason.mcewen@ucl.ac.uk\n",
      "rmennick@udec.cl\n",
      "bmiller@gemini.edu\n",
      "moniez@lal.in2p3.fr\n",
      "anjum@astro.washington.edu\n",
      "ilaria.musella@oacn.inaf.it\n",
      "napolita@na.astro.it\n",
      "janewman@pitt.edu\n",
      "penugent@lbl.gov\n",
      "joshua.pepper@lehigh.edu\n",
      "tina.peters@dunlap.utoronto.ca\n",
      "pplavcha@gmu.edu\n",
      "aprsa@villanova.edu\n",
      "andrew.f.ptak@nasa.gov\n",
      "arasmus@slac.stanford.edu\n",
      "umaa.d.rebbapragada@jpl.nasa.gov\n",
      "ridgway@noao.edu\n",
      "roman@dfuls.cl\n",
      "roodman@slac.stanford.edu\n",
      "asaha@noao.edu\n",
      "masao@sas.upenn.edu\n",
      "sschmidt@physics.ucdavis.edu\n",
      "rseaman@email.arizona.edu\n",
      "jsick@lsst.org\n",
      "nms@astro.washington.edu\n",
      "ctslater@uw.edu\n",
      "gps@star.sr.bham.ac.uk\n",
      "keivan.stassun@vanderbilt.edu\n",
      "strader@pa.msu.edu\n",
      "strauss@astro.princeton.edu\n",
      "stubbs@g.harvard.edu\n",
      "m.sullivan@soton.ac.uk\n",
      "tt@astro.ucla.edu\n",
      "tyson@physics.ucdavis.edu\n",
      "aprajita.verma@physics.ox.ac.uk\n",
      "avdl@dark-cosmology.dk\n",
      "l.m.walkowicz@gmail.com\n",
      "rwechsler@stanford.edu\n",
      "matthewwiesner@aol.com\n",
      "dwittman@physics.ucdavis.edu\n",
      "wmwv@pitt.edu\n",
      "yoachim@uw.edu\n",
      "zentner@pitt.edu\n"
     ]
    }
   ],
   "source": [
    "for em in affiliations[\"Email\"].unique():\n",
    "    affhere = affiliations[affiliations[\"Email\"] == em]\n",
    "    if(affhere.shape[0] > 1):\n",
    "        print(em)\n",
    "        for pair in itertools.combinations(affhere[\"Contact Category\"].values, \n",
    "                                      2):\n",
    "            scmatrix[scdic[pair[0]], scdic[pair[1]]] += 1\n",
    "            scmatrix[scdic[pair[1]], scdic[pair[0]]] = scmatrix[scdic[pair[0]], scdic[pair[1]]]"
   ]
  },
  {
   "cell_type": "code",
   "execution_count": 151,
   "metadata": {
    "ExecuteTime": {
     "end_time": "2018-04-15T10:20:22.552365-04:00",
     "start_time": "2018-04-15T10:20:21.798581"
    }
   },
   "outputs": [
    {
     "data": {
      "image/png": "[encoded data removed]",
      "text/plain": [
       "<Figure size 432x288 with 2 Axes>"
      ]
     },
     "metadata": {
      "needs_background": "light"
     },
     "output_type": "display_data"
    }
   ],
   "source": [
    "fig = pl.figure()\n",
    "ax = fig.add_subplot(111)\n",
    "cax = ax.imshow(scmatrix)\n",
    "ax.set_yticks(range(8))\n",
    "ax.set_xticks(range(8))\n",
    "ax.set_yticklabels([\"%s\"%s for s in affiliations[\"Contact Category\"].unique()])#affiliations[\"Contact Category\"].unique()\n",
    "ax.set_xticklabels([\"%s\"%s for s in affiliations[\"Contact Category\"].unique()], rotation=90)#affiliations[\"Contact Category\"].unique()\n",
    "fig.colorbar(cax);"
   ]
  },
  {
   "cell_type": "code",
   "execution_count": 195,
   "metadata": {
    "ExecuteTime": {
     "end_time": "2018-04-15T10:20:22.575690-04:00",
     "start_time": "2018-04-15T10:20:22.555923"
    }
   },
   "outputs": [
    {
     "data": {
      "text/plain": [
       "13"
      ]
     },
     "execution_count": 195,
     "metadata": {},
     "output_type": "execute_result"
    }
   ],
   "source": [
    "foutaff = open(\"data/affiliations.csv\", \"w\")\n",
    "foutnums = open(\"data/affiliationsNumbers.csv\", \"w\")\n",
    "foutnums.write(\"subg,tot\\n\")\n",
    "foutaff.write(\"word1,word2,count\\n\")\n",
    "for i,sc1 in enumerate(scdic.keys()):\n",
    "    for sc2 in scdic.keys():\n",
    "        if sc1 == sc2:\n",
    "            foutaff.write('\"' + sc1 + '\",\"' + sc1 +'\",0\\n')\n",
    "            foutnums.write(sc1 + ',%d\\n'%int(scmatrix[scdic[sc1], scdic[sc1]]))\n",
    "        else:\n",
    "            foutaff.write('\"' + sc1 + '\",\"' + sc2 +'\",%d\\n'%int(scmatrix[scdic[sc1], scdic[sc2]]))\n",
    "foutnums.write(\"totalaff,%d\\n\"%len(affiliations))\n",
    "foutnums.write(\"totalmem,%d\\n\"%len(affiliations[\"Email\"].unique()))"
   ]
  },
  {
   "cell_type": "code",
   "execution_count": 196,
   "metadata": {
    "ExecuteTime": {
     "end_time": "2018-04-15T10:20:22.584422-04:00",
     "start_time": "2018-04-15T10:20:22.578277"
    }
   },
   "outputs": [],
   "source": [
    "foutaff.close()\n",
    "foutnums.close()"
   ]
  },
  {
   "cell_type": "code",
   "execution_count": 220,
   "metadata": {},
   "outputs": [
    {
     "data": {
      "text/plain": [
       "8"
      ]
     },
     "execution_count": 220,
     "metadata": {},
     "output_type": "execute_result"
    }
   ],
   "source": [
    "affcount = affiliations[\"Contact Category\"].value_counts()\n",
    "affcount.rename({'Statistics and Informatics':'Informatics and\\nStatistics'},  inplace=True)\n",
    "affcount.rename({'Transients':'Transients and\\nVariable Star'},  inplace=True)\n",
    "affcount.rename({'Stars, Milky Way, and Local Volume':'Stars, Milky Way,\\nand Local Volume'},  inplace=True)\n",
    "len(affcount)"
   ]
  },
  {
   "cell_type": "code",
   "execution_count": 221,
   "metadata": {},
   "outputs": [
    {
     "data": {
      "text/plain": [
       "[Text(0, 241, '261'),\n",
       " Text(1, 174, '194'),\n",
       " Text(2, 149, '169'),\n",
       " Text(3, 86, '106'),\n",
       " Text(4, 74, '94'),\n",
       " Text(5, 50, '70'),\n",
       " Text(6, 34, '54'),\n",
       " Text(7, 23, '43')]"
      ]
     },
     "execution_count": 221,
     "metadata": {},
     "output_type": "execute_result"
    },
    {
     "data": {
      "image/png": "[encoded data removed]",
      "text/plain": [
       "<Figure size 432x288 with 1 Axes>"
      ]
     },
     "metadata": {
      "needs_background": "light"
     },
     "output_type": "display_data"
    }
   ],
   "source": [
    "affcount.plot(kind='bar', fontsize=15, color='SteelBlue')\n",
    "[pl.text(i, affcount[i]-20, affcount[i], rotation=90, color='w', \n",
    "         ha='center', fontsize=20) for i in range(len(affcount))]"
   ]
  },
  {
   "cell_type": "code",
   "execution_count": 222,
   "metadata": {},
   "outputs": [
    {
     "data": {
      "text/plain": [
       "Stars, Milky Way,\\nand Local Volume    261\n",
       "Transients and\\nVariable Star          194\n",
       "DESC                                   169\n",
       "Galaxies                               106\n",
       "Solar System                            94\n",
       "Informatics and\\nStatistics             70\n",
       "AGN                                     54\n",
       "Strong Lensing                          43\n",
       "Name: Contact Category, dtype: int64"
      ]
     },
     "execution_count": 222,
     "metadata": {},
     "output_type": "execute_result"
    }
   ],
   "source": [
    "affcount"
   ]
  },
  {
   "cell_type": "code",
   "execution_count": 223,
   "metadata": {},
   "outputs": [],
   "source": [
    "affcount['Transients and\\nVariable Star'] = 222\n",
    "affcount['Informatics and\\nStatistics'] = 71\n",
    "affcount['DESC'] = 215\n",
    "affcount['Stars, Milky Way,\\nand Local Volume'] = 140\n",
    "affcount['Strong Lensing'] = 51"
   ]
  },
  {
   "cell_type": "code",
   "execution_count": 224,
   "metadata": {},
   "outputs": [],
   "source": [
    "affcount.sort_index(inplace=True)"
   ]
  },
  {
   "cell_type": "code",
   "execution_count": 225,
   "metadata": {},
   "outputs": [
    {
     "data": {
      "text/plain": [
       "[Text(0, 34, '54'),\n",
       " Text(1, 195, '215'),\n",
       " Text(2, 86, '106'),\n",
       " Text(3, 51, '71'),\n",
       " Text(4, 74, '94'),\n",
       " Text(5, 120, '140'),\n",
       " Text(6, 31, '51'),\n",
       " Text(7, 202, '222')]"
      ]
     },
     "execution_count": 225,
     "metadata": {},
     "output_type": "execute_result"
    },
    {
     "data": {
      "image/png": "[encoded data removed]",
      "text/plain": [
       "<Figure size 432x288 with 1 Axes>"
      ]
     },
     "metadata": {
      "needs_background": "light"
     },
     "output_type": "display_data"
    }
   ],
   "source": [
    "affcount.plot(kind='bar', fontsize=15, color='SteelBlue')\n",
    "[pl.text(i, affcount[i]-20, affcount[i], rotation=90, color='w', \n",
    "         ha='center', fontsize=20) for i in range(len(affcount))]"
   ]
  },
  {
   "cell_type": "code",
   "execution_count": null,
   "metadata": {},
   "outputs": [],
   "source": []
  }
 ],
 "metadata": {
  "anaconda-cloud": {},
  "kernelspec": {
   "display_name": "Python 3",
   "language": "python",
   "name": "python3"
  },
  "language_info": {
   "codemirror_mode": {
    "name": "ipython",
    "version": 3
   },
   "file_extension": ".py",
   "mimetype": "text/x-python",
   "name": "python",
   "nbconvert_exporter": "python",
   "pygments_lexer": "ipython3",
   "version": "3.7.3"
  },
  "latex_envs": {
   "LaTeX_envs_menu_present": true,
   "autoclose": false,
   "autocomplete": true,
   "bibliofile": "biblio.bib",
   "cite_by": "apalike",
   "current_citInitial": 1,
   "eqLabelWithNumbers": true,
   "eqNumInitial": 1,
   "hotkeys": {
    "equation": "Ctrl-E",
    "itemize": "Ctrl-I"
   },
   "labels_anchors": false,
   "latex_user_defs": false,
   "report_style_numbering": false,
   "user_envs_cfg": false
  },
  "nbTranslate": {
   "displayLangs": [
    "*"
   ],
   "hotkey": "alt-t",
   "langInMainMenu": true,
   "sourceLang": "en",
   "targetLang": "fr",
   "useGoogleTranslate": true
  },
  "toc": {
   "base_numbering": 1,
   "nav_menu": {
    "height": "12px",
    "width": "252px"
   },
   "number_sections": true,
   "sideBar": true,
   "skip_h1_title": false,
   "title_cell": "Table of Contents",
   "title_sidebar": "Contents",
   "toc_cell": false,
   "toc_position": {},
   "toc_section_display": "block",
   "toc_window_display": false
  }
 },
 "nbformat": 4,
 "nbformat_minor": 1
}
